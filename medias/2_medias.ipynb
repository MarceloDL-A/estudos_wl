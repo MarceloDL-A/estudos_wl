{
 "cells": [
  {
   "cell_type": "code",
   "execution_count": 32,
   "metadata": {},
   "outputs": [],
   "source": [
    "import pingouin as pg\n",
    "import numpy as np\n",
    "\n",
    "# Dados simulados\n",
    "np.random.seed(0)\n",
    "N= 45\n",
    "data1 = np.random.normal(70, 5, N)\n",
    "data2 = np.random.normal(75, 3, N)\n",
    "\n",
    "# Realizando o teste t, incluindo verificação de homogeneidade das variâncias\n",
    "resultado = pg.ttest(data1, data2, correction=True)  # 'correction' aplica o teste t de Welch se necessário\n",
    "\n"
   ]
  },
  {
   "cell_type": "code",
   "execution_count": 33,
   "metadata": {},
   "outputs": [
    {
     "data": {
      "text/html": [
       "<div>\n",
       "<style scoped>\n",
       "    .dataframe tbody tr th:only-of-type {\n",
       "        vertical-align: middle;\n",
       "    }\n",
       "\n",
       "    .dataframe tbody tr th {\n",
       "        vertical-align: top;\n",
       "    }\n",
       "\n",
       "    .dataframe thead th {\n",
       "        text-align: right;\n",
       "    }\n",
       "</style>\n",
       "<table border=\"1\" class=\"dataframe\">\n",
       "  <thead>\n",
       "    <tr style=\"text-align: right;\">\n",
       "      <th></th>\n",
       "      <th>T</th>\n",
       "      <th>dof</th>\n",
       "      <th>alternative</th>\n",
       "      <th>p-val</th>\n",
       "      <th>CI95%</th>\n",
       "      <th>cohen-d</th>\n",
       "      <th>BF10</th>\n",
       "      <th>power</th>\n",
       "    </tr>\n",
       "  </thead>\n",
       "  <tbody>\n",
       "    <tr>\n",
       "      <th>T-test</th>\n",
       "      <td>-3.52639</td>\n",
       "      <td>62.060873</td>\n",
       "      <td>two-sided</td>\n",
       "      <td>0.000798</td>\n",
       "      <td>[-5.17, -1.43]</td>\n",
       "      <td>0.743428</td>\n",
       "      <td>42.134</td>\n",
       "      <td>0.936705</td>\n",
       "    </tr>\n",
       "  </tbody>\n",
       "</table>\n",
       "</div>"
      ],
      "text/plain": [
       "              T        dof alternative     p-val           CI95%   cohen-d  \\\n",
       "T-test -3.52639  62.060873   two-sided  0.000798  [-5.17, -1.43]  0.743428   \n",
       "\n",
       "          BF10     power  \n",
       "T-test  42.134  0.936705  "
      ]
     },
     "execution_count": 33,
     "metadata": {},
     "output_type": "execute_result"
    }
   ],
   "source": [
    "resultado"
   ]
  },
  {
   "cell_type": "code",
   "execution_count": 34,
   "metadata": {},
   "outputs": [
    {
     "name": "stdout",
     "output_type": "stream",
     "text": [
      "Tamanho mínimo de amostras por grupo: 64\n"
     ]
    }
   ],
   "source": [
    "# Poder de teste: estimativa do tamanho de amostras\n",
    "import statsmodels.stats.power as smp\n",
    "\n",
    "# Parâmetros\n",
    "effect_size = 0.5  # Tamanho do efeito de Cohen. É a diferença esperada entre as médias em números padrões.\n",
    "alpha = 0.05  # Nível de significância\n",
    "power = 0.8  # Poder desejado\n",
    "\n",
    "# Cálculo do tamanho da amostra necessário por grupo\n",
    "sample_size = smp.tt_ind_solve_power(effect_size=effect_size, alpha=alpha, power=power, alternative='two-sided')\n",
    "print(f\"Tamanho mínimo de amostras por grupo: {round(sample_size)}\")\n"
   ]
  },
  {
   "cell_type": "code",
   "execution_count": null,
   "metadata": {},
   "outputs": [],
   "source": []
  }
 ],
 "metadata": {
  "kernelspec": {
   "display_name": "estat_env",
   "language": "python",
   "name": "python3"
  },
  "language_info": {
   "codemirror_mode": {
    "name": "ipython",
    "version": 3
   },
   "file_extension": ".py",
   "mimetype": "text/x-python",
   "name": "python",
   "nbconvert_exporter": "python",
   "pygments_lexer": "ipython3",
   "version": "3.11.4"
  }
 },
 "nbformat": 4,
 "nbformat_minor": 2
}
