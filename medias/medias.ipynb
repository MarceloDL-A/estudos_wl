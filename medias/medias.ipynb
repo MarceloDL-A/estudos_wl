{
 "cells": [
  {
   "cell_type": "code",
   "execution_count": 10,
   "metadata": {},
   "outputs": [],
   "source": [
    "import numpy as np\n",
    "import statsmodels.api as sm\n",
    "from statsmodels.stats.multicomp import pairwise_tukeyhsd\n"
   ]
  },
  {
   "cell_type": "code",
   "execution_count": 11,
   "metadata": {},
   "outputs": [],
   "source": [
    "# Dados dos grupos\n",
    "grupo1 = np.random.normal(100, 10, 30)\n",
    "grupo2 = np.random.normal(90, 20, 30)\n",
    "grupo3 = np.random.normal(80, 25, 30)\n",
    "\n",
    "# Concatenar os dados em um único array\n",
    "dados = np.concatenate([grupo1, grupo2, grupo3])\n",
    "\n",
    "# Criar um array de rótulos de grupo\n",
    "grupos = ['grupo1'] * len(grupo1) + ['grupo2'] * len(grupo2) + ['grupo3'] * len(grupo3)\n"
   ]
  },
  {
   "cell_type": "code",
   "execution_count": 12,
   "metadata": {},
   "outputs": [
    {
     "name": "stdout",
     "output_type": "stream",
     "text": [
      " Multiple Comparison of Means - Tukey HSD, FWER=0.05 \n",
      "=====================================================\n",
      "group1 group2 meandiff p-adj   lower    upper  reject\n",
      "-----------------------------------------------------\n",
      "grupo1 grupo2 -12.2457 0.0548 -24.6902  0.1988  False\n",
      "grupo1 grupo3 -17.9094 0.0026 -30.3539 -5.4649   True\n",
      "grupo2 grupo3  -5.6637 0.5258 -18.1082  6.7808  False\n",
      "-----------------------------------------------------\n"
     ]
    }
   ],
   "source": [
    "# Realizar o Tukey HSD\n",
    "tukey = pairwise_tukeyhsd(endog=dados,  # Dados\n",
    "                          groups=grupos,  # Vetor de grupos\n",
    "                          alpha=0.05)  # Nível de significância\n",
    "\n",
    "# Mostrar os resultados\n",
    "print(tukey)\n"
   ]
  },
  {
   "cell_type": "code",
   "execution_count": 13,
   "metadata": {},
   "outputs": [
    {
     "data": {
      "text/plain": [
       "(102.0410342113568, 89.79536101033091, 84.1316408436116)"
      ]
     },
     "execution_count": 13,
     "metadata": {},
     "output_type": "execute_result"
    }
   ],
   "source": [
    "np.mean(grupo1), np.mean(grupo2), np.mean(grupo3), "
   ]
  },
  {
   "cell_type": "code",
   "execution_count": 14,
   "metadata": {},
   "outputs": [],
   "source": [
    "# Iris"
   ]
  },
  {
   "cell_type": "code",
   "execution_count": 8,
   "metadata": {},
   "outputs": [],
   "source": [
    "import seaborn as sns\n",
    "import pandas as pd\n",
    "from statsmodels.stats.multicomp import pairwise_tukeyhsd\n",
    "\n",
    "# Carregar o conjunto de dados Iris\n",
    "iris = sns.load_dataset('iris')\n"
   ]
  },
  {
   "cell_type": "code",
   "execution_count": 9,
   "metadata": {},
   "outputs": [
    {
     "name": "stdout",
     "output_type": "stream",
     "text": [
      "   Multiple Comparison of Means - Tukey HSD, FWER=0.05   \n",
      "=========================================================\n",
      "  group1     group2   meandiff p-adj lower  upper  reject\n",
      "---------------------------------------------------------\n",
      "    setosa versicolor    2.798   0.0 2.5942 3.0018   True\n",
      "    setosa  virginica     4.09   0.0 3.8862 4.2938   True\n",
      "versicolor  virginica    1.292   0.0 1.0882 1.4958   True\n",
      "---------------------------------------------------------\n"
     ]
    }
   ],
   "source": [
    "# Realizar o Tukey HSD\n",
    "tukey = pairwise_tukeyhsd(endog=iris['petal_length'],  # Dados: comprimento da pétala\n",
    "                          groups=iris['species'],  # Grupos: espécies de íris\n",
    "                          alpha=0.05)  # Nível de significância\n",
    "\n",
    "# Mostrar os resultados\n",
    "print(tukey)\n"
   ]
  },
  {
   "cell_type": "code",
   "execution_count": null,
   "metadata": {},
   "outputs": [],
   "source": []
  }
 ],
 "metadata": {
  "kernelspec": {
   "display_name": "estat_env",
   "language": "python",
   "name": "python3"
  },
  "language_info": {
   "codemirror_mode": {
    "name": "ipython",
    "version": 3
   },
   "file_extension": ".py",
   "mimetype": "text/x-python",
   "name": "python",
   "nbconvert_exporter": "python",
   "pygments_lexer": "ipython3",
   "version": "3.11.4"
  }
 },
 "nbformat": 4,
 "nbformat_minor": 2
}
