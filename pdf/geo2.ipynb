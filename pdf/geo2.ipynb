{
 "cells": [
  {
   "cell_type": "code",
   "execution_count": 1,
   "metadata": {},
   "outputs": [
    {
     "data": {
      "text/plain": [
       "'Verdadeiro_ou_Falso_Historia_Geografia_Brasil - 2.pdf'"
      ]
     },
     "execution_count": 1,
     "metadata": {},
     "output_type": "execute_result"
    }
   ],
   "source": [
    "from fpdf import FPDF\n",
    "\n",
    "# Criando uma instância de PDF\n",
    "pdf = FPDF()\n",
    "pdf.set_auto_page_break(auto=True, margin=15)\n",
    "pdf.add_page()\n",
    "pdf.set_font(\"Arial\", size=12)\n",
    "\n",
    "# Título do documento PDF\n",
    "pdf.cell(200, 10, \"Perguntas de Verdadeiro ou Falso - História e Geografia do Brasil\", ln=True, align='C')\n",
    "\n",
    "# Perguntas\n",
    "questions = [\n",
    "    \"[__] 1. A região do atual estado de Minas Gerais foi a principal área de exploração do pau-brasil durante o século XVI.\",\n",
    "    \"[__] 2. As primeiras capitanias hereditárias do Brasil foram estabelecidas ao longo do litoral nordestino.\",\n",
    "    \"[__] 3. O cultivo do tabaco no Brasil colonial foi inicialmente introduzido pelos holandeses.\",\n",
    "    \"[__] 4. A cidade de Salvador foi a primeira capital do Brasil colonial.\",\n",
    "    \"[__] 5. O tratado de Tordesilhas foi assinado no século XV entre Portugal e Espanha e está localizado no atual estado do Piauí.\",\n",
    "    \"[__] 6. As missões jesuíticas tinham como um dos seus objetivos proteger os indígenas da escravidão.\",\n",
    "    \"[__] 7. Os Bandeirantes contribuíram para a expansão territorial do Brasil para além do Tratado de Tordesilhas.\",\n",
    "    \"[__] 8. O cultivo de cana-de-açúcar no Brasil colonial estava concentrado principalmente na região Centro-Oeste.\",\n",
    "    \"[__] 9. O ouro e os diamantes descobertos no Brasil no século XVIII levaram à criação da capitania de Minas Gerais.\",\n",
    "    \"[__] 10. O sistema de capitanias hereditárias no Brasil foi completamente abandonado até o final do século XVI.\"\n",
    "]\n",
    "\n",
    "# Adicionando as perguntas no PDF\n",
    "for question in questions:\n",
    "    pdf.multi_cell(0, 10, question)\n",
    "\n",
    "# Espaço antes do gabarito\n",
    "pdf.ln(10)\n",
    "\n",
    "# Gabarito\n",
    "pdf.set_font(\"Arial\", 'B', 12)\n",
    "pdf.cell(0, 10, \"Gabarito:\", ln=True)\n",
    "\n",
    "# Respostas do gabarito\n",
    "answers = [\n",
    "    \"(1) Falso - A principal área de exploração do pau-brasil durante o século XVI foi a região da Mata Atlântica, especialmente no litoral.\",\n",
    "    \"(2) Verdadeiro - As primeiras capitanias hereditárias estavam localizadas ao longo do litoral do Brasil, incluindo o Nordeste.\",\n",
    "    \"(3) Falso - O cultivo do tabaco no Brasil começou durante o período colonial português e não foi introduzido pelos holandeses.\",\n",
    "    \"(4) Verdadeiro - Salvador foi a primeira capital do Brasil, fundada em 1549.\",\n",
    "    \"(5) Falso - O Tratado de Tordesilhas foi assinado em 1494 e a linha não está localizada no estado do Piauí.\",\n",
    "    \"(6) Verdadeiro - As missões jesuíticas visavam catequizar os indígenas e protegê-los dos colonizadores que queriam escravizá-los.\",\n",
    "    \"(7) Verdadeiro - Os bandeirantes exploraram o interior do Brasil e expandiram o território além dos limites estabelecidos pelo Tratado de Tordesilhas.\",\n",
    "    \"(8) Falso - O cultivo de cana-de-açúcar estava concentrado na região Nordeste do Brasil, principalmente na zona da mata atlântica.\",\n",
    "    \"(9) Verdadeiro - A descoberta do ouro e dos diamantes foi um dos fatores que levou à criação da capitania de Minas Gerais.\",\n",
    "    \"(10) Falso - O sistema de capitanias hereditárias continuou em algumas regiões e foi complementado por outras formas de administração.\"\n",
    "]\n",
    "\n",
    "# Adicionando as respostas no PDF\n",
    "for answer in answers:\n",
    "    pdf.multi_cell(0, 10, answer)\n",
    "\n",
    "# Salvando o PDF em um arquivo\n",
    "pdf_output = \"Verdadeiro_ou_Falso_Historia_Geografia_Brasil - 2.pdf\"\n",
    "pdf.output(pdf_output)\n",
    "\n",
    "pdf_output\n"
   ]
  },
  {
   "cell_type": "code",
   "execution_count": null,
   "metadata": {},
   "outputs": [],
   "source": []
  }
 ],
 "metadata": {
  "kernelspec": {
   "display_name": "estat_env",
   "language": "python",
   "name": "python3"
  },
  "language_info": {
   "codemirror_mode": {
    "name": "ipython",
    "version": 3
   },
   "file_extension": ".py",
   "mimetype": "text/x-python",
   "name": "python",
   "nbconvert_exporter": "python",
   "pygments_lexer": "ipython3",
   "version": "3.11.4"
  }
 },
 "nbformat": 4,
 "nbformat_minor": 2
}
