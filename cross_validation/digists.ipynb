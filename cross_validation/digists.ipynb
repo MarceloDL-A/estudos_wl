{
 "cells": [
  {
   "cell_type": "code",
   "execution_count": 1,
   "metadata": {},
   "outputs": [
    {
     "name": "stderr",
     "output_type": "stream",
     "text": [
      "c:\\Users\\Marcelo DL\\Desktop\\VSCode\\Data Science\\Estatística\\estat_env\\Lib\\site-packages\\sklearn\\model_selection\\_validation.py:547: FitFailedWarning: \n",
      "60 fits failed out of a total of 180.\n",
      "The score on these train-test partitions for these parameters will be set to nan.\n",
      "If these failures are not expected, you can try to debug them by setting error_score='raise'.\n",
      "\n",
      "Below are more details about the failures:\n",
      "--------------------------------------------------------------------------------\n",
      "60 fits failed with the following error:\n",
      "Traceback (most recent call last):\n",
      "  File \"c:\\Users\\Marcelo DL\\Desktop\\VSCode\\Data Science\\Estatística\\estat_env\\Lib\\site-packages\\sklearn\\model_selection\\_validation.py\", line 895, in _fit_and_score\n",
      "    estimator.fit(X_train, y_train, **fit_params)\n",
      "  File \"c:\\Users\\Marcelo DL\\Desktop\\VSCode\\Data Science\\Estatística\\estat_env\\Lib\\site-packages\\sklearn\\base.py\", line 1467, in wrapper\n",
      "    estimator._validate_params()\n",
      "  File \"c:\\Users\\Marcelo DL\\Desktop\\VSCode\\Data Science\\Estatística\\estat_env\\Lib\\site-packages\\sklearn\\base.py\", line 666, in _validate_params\n",
      "    validate_parameter_constraints(\n",
      "  File \"c:\\Users\\Marcelo DL\\Desktop\\VSCode\\Data Science\\Estatística\\estat_env\\Lib\\site-packages\\sklearn\\utils\\_param_validation.py\", line 95, in validate_parameter_constraints\n",
      "    raise InvalidParameterError(\n",
      "sklearn.utils._param_validation.InvalidParameterError: The 'max_features' parameter of RandomForestClassifier must be an int in the range [1, inf), a float in the range (0.0, 1.0], a str among {'sqrt', 'log2'} or None. Got 'auto' instead.\n",
      "\n",
      "  warnings.warn(some_fits_failed_message, FitFailedWarning)\n",
      "c:\\Users\\Marcelo DL\\Desktop\\VSCode\\Data Science\\Estatística\\estat_env\\Lib\\site-packages\\sklearn\\model_selection\\_search.py:1051: UserWarning: One or more of the test scores are non-finite: [       nan        nan        nan 0.86868307 0.8748112  0.87758589\n",
      " 0.86924172 0.87369855 0.87926339        nan        nan        nan\n",
      " 0.90597648 0.91766481 0.91599505 0.91097648 0.91821572 0.91654751\n",
      "        nan        nan        nan 0.93101517 0.92935005 0.93212473\n",
      " 0.93323739 0.93546425 0.93657227        nan        nan        nan\n",
      " 0.93824822 0.93880068 0.93602445 0.93213711 0.93824977 0.94159084]\n",
      "  warnings.warn(\n"
     ]
    },
    {
     "name": "stdout",
     "output_type": "stream",
     "text": [
      "Melhores Parâmetros: {'max_depth': 10, 'max_features': 'log2', 'n_estimators': 300}\n",
      "Melhor Score: 0.9415908387496131\n"
     ]
    }
   ],
   "source": [
    "from sklearn.model_selection import GridSearchCV\n",
    "from sklearn.ensemble import RandomForestClassifier\n",
    "from sklearn.datasets import load_digits\n",
    "\n",
    "# Carregando um conjunto de dados exemplo\n",
    "X, y = load_digits(return_X_y=True)\n",
    "\n",
    "# Definindo o modelo\n",
    "modelo = RandomForestClassifier(n_jobs=-1)\n",
    "\n",
    "# Definindo o espaço de busca dos hiperparâmetros\n",
    "param_grid = {\n",
    "    'n_estimators': [100, 200, 300],\n",
    "    'max_features': ['auto', 'sqrt', 'log2'],\n",
    "    'max_depth': [4, 6, 8, 10]\n",
    "}\n",
    "\n",
    "# Configurando a busca em grade com validação cruzada\n",
    "grid_search = GridSearchCV(estimator=modelo, param_grid=param_grid, cv=5, scoring='accuracy')\n",
    "\n",
    "# Executando a busca\n",
    "grid_search.fit(X, y)\n",
    "\n",
    "# Melhores parâmetros e score\n",
    "print(\"Melhores Parâmetros:\", grid_search.best_params_)\n",
    "print(\"Melhor Score:\", grid_search.best_score_)\n"
   ]
  }
 ],
 "metadata": {
  "kernelspec": {
   "display_name": "estat_env",
   "language": "python",
   "name": "python3"
  },
  "language_info": {
   "codemirror_mode": {
    "name": "ipython",
    "version": 3
   },
   "file_extension": ".py",
   "mimetype": "text/x-python",
   "name": "python",
   "nbconvert_exporter": "python",
   "pygments_lexer": "ipython3",
   "version": "3.11.4"
  }
 },
 "nbformat": 4,
 "nbformat_minor": 2
}
