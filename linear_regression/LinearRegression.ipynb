{
 "cells": [
  {
   "cell_type": "code",
   "execution_count": 24,
   "metadata": {},
   "outputs": [],
   "source": [
    "# Testando vários modelos"
   ]
  },
  {
   "cell_type": "code",
   "execution_count": 25,
   "metadata": {},
   "outputs": [
    {
     "name": "stdout",
     "output_type": "stream",
     "text": [
      "Melhor modelo encontrado:\n",
      "                            OLS Regression Results                            \n",
      "==============================================================================\n",
      "Dep. Variable:            MedHouseVal   R-squared:                       0.613\n",
      "Model:                            OLS   Adj. R-squared:                  0.612\n",
      "Method:                 Least Squares   F-statistic:                     3727.\n",
      "Date:                Thu, 29 Feb 2024   Prob (F-statistic):               0.00\n",
      "Time:                        21:01:40   Log-Likelihood:                -17998.\n",
      "No. Observations:               16512   AIC:                         3.601e+04\n",
      "Df Residuals:                   16504   BIC:                         3.607e+04\n",
      "Df Model:                           7                                         \n",
      "Covariance Type:            nonrobust                                         \n",
      "==============================================================================\n",
      "                 coef    std err          t      P>|t|      [0.025      0.975]\n",
      "------------------------------------------------------------------------------\n",
      "const        -37.0114      0.728    -50.865      0.000     -38.438     -35.585\n",
      "MedInc         0.4487      0.005     95.743      0.000       0.440       0.458\n",
      "HouseAge       0.0098      0.000     20.864      0.000       0.009       0.011\n",
      "AveRooms      -0.1233      0.007    -18.674      0.000      -0.136      -0.110\n",
      "AveBedrms      0.7832      0.033     23.560      0.000       0.718       0.848\n",
      "AveOccup      -0.0035      0.000     -7.312      0.000      -0.004      -0.003\n",
      "Latitude      -0.4195      0.008    -52.993      0.000      -0.435      -0.404\n",
      "Longitude     -0.4335      0.008    -52.229      0.000      -0.450      -0.417\n",
      "==============================================================================\n",
      "Omnibus:                     3338.428   Durbin-Watson:                   1.962\n",
      "Prob(Omnibus):                  0.000   Jarque-Bera (JB):             9390.846\n",
      "Skew:                           1.072   Prob(JB):                         0.00\n",
      "Kurtosis:                       6.009   Cond. No.                     1.67e+04\n",
      "==============================================================================\n",
      "\n",
      "Notes:\n",
      "[1] Standard Errors assume that the covariance matrix of the errors is correctly specified.\n",
      "[2] The condition number is large, 1.67e+04. This might indicate that there are\n",
      "strong multicollinearity or other numerical problems.\n"
     ]
    }
   ],
   "source": [
    "import pandas as pd\n",
    "import numpy as np\n",
    "from sklearn.datasets import fetch_california_housing\n",
    "from sklearn.model_selection import train_test_split\n",
    "import statsmodels.api as sm\n",
    "import itertools\n",
    "\n",
    "# Carregar o conjunto de dados California Housing\n",
    "housing = fetch_california_housing(as_frame=True)\n",
    "X = housing.data\n",
    "y = housing.target\n",
    "\n",
    "# Dividir os dados em conjuntos de treinamento e teste\n",
    "X_train, X_test, y_train, y_test = train_test_split(X, y, test_size=0.2, random_state=42)\n",
    "\n",
    "# Lista de todas as features disponíveis\n",
    "all_features = X_train.columns\n",
    "\n",
    "best_model = None\n",
    "best_aic = np.inf\n",
    "\n",
    "# Iterar sobre o número de features\n",
    "for k in range(1, len(all_features) + 1):\n",
    "    # Gerar todas as combinações possíveis de features para o número atual de features\n",
    "    for subset in itertools.combinations(all_features, k):\n",
    "        # Selecionar o subconjunto atual de features\n",
    "        X_subset = X_train[list(subset)]\n",
    "        \n",
    "        # Adicionar um termo constante para o intercepto\n",
    "        X_subset = sm.add_constant(X_subset)\n",
    "        \n",
    "        # Treinar o modelo OLS com o subconjunto atual de features\n",
    "        model = sm.OLS(y_train, X_subset).fit()\n",
    "        \n",
    "        # Se o AIC do modelo atual for melhor (menor), atualizar o melhor modelo\n",
    "        if model.aic < best_aic:\n",
    "            best_model = model\n",
    "            best_aic = model.aic\n",
    "\n",
    "# Exibir um resumo do melhor modelo encontrado\n",
    "print(\"Melhor modelo encontrado:\")\n",
    "print(best_model.summary())\n"
   ]
  },
  {
   "cell_type": "code",
   "execution_count": null,
   "metadata": {},
   "outputs": [],
   "source": []
  }
 ],
 "metadata": {
  "kernelspec": {
   "display_name": "estat_env",
   "language": "python",
   "name": "python3"
  },
  "language_info": {
   "codemirror_mode": {
    "name": "ipython",
    "version": 3
   },
   "file_extension": ".py",
   "mimetype": "text/x-python",
   "name": "python",
   "nbconvert_exporter": "python",
   "pygments_lexer": "ipython3",
   "version": "3.11.4"
  }
 },
 "nbformat": 4,
 "nbformat_minor": 2
}
