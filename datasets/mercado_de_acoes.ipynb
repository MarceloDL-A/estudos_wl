{
 "cells": [
  {
   "cell_type": "markdown",
   "metadata": {},
   "source": [
    "Para análises de séries temporais que requerem granularidade até o nível de hora, os dados de mercado de ações são uma excelente opção. Eles não apenas variam ao longo do dia, refletindo as flutuações do mercado, mas também incluem timestamps detalhados que podem ser usados para análises intradiárias. Um exemplo clássico desse tipo de dados são os dados financeiros históricos que incluem preços de abertura, alta, baixa, fechamento e volume para diferentes ações, comumente referidos pelo acrônimo OHLCV.\n",
    "\n",
    "### Exemplo de Dados de Mercado de Ações\n",
    "\n",
    "Os dados financeiros para ações específicas podem ser obtidos de várias fontes, como Yahoo Finance, Google Finance, Quandl, entre outros. Uma das maneiras mais acessíveis de obter esses dados é usar a biblioteca `yfinance` em Python, que permite baixar dados históricos do Yahoo Finance.\n",
    "\n",
    "### Instalando `yfinance`\n",
    "\n",
    "Primeiro, instale a biblioteca `yfinance`, se ainda não tiver feito:\n",
    "\n",
    "```sh\n",
    "pip install yfinance\n",
    "```\n",
    "\n",
    "### Exemplo de Script para Baixar Dados de Ações\n",
    "\n",
    "Aqui está um exemplo de como você pode usar `yfinance` para baixar dados de ações com granularidade de até 1 minuto (note que a disponibilidade de dados a esse nível de granularidade pode depender da ação específica e do intervalo de datas):\n",
    "\n",
    "```python\n",
    "import yfinance as yf\n",
    "import pandas as pd\n",
    "\n",
    "# Definir o ticker da ação e o intervalo de datas\n",
    "ticker_symbol = 'AAPL'  # Exemplo com a Apple Inc.\n",
    "start_date = '2023-02-01'\n",
    "end_date = '2023-02-05'\n",
    "\n",
    "# Baixar os dados de ações\n",
    "data = yf.download(ticker_symbol, start=start_date, end=end_date, interval='1h')\n",
    "\n",
    "# Exibir as primeiras linhas do DataFrame\n",
    "print(data.head())\n",
    "```\n",
    "\n",
    "Este script baixa os dados da ação especificada (`AAPL` para Apple Inc., neste exemplo) para o intervalo de datas definido. O argumento `interval='1h'` especifica que você deseja os dados com granularidade horária. Você pode ajustar o ticker, as datas de início e término e o intervalo conforme necessário para atender às suas necessidades de análise.\n",
    "\n",
    "### Considerações\n",
    "\n",
    "- Ao trabalhar com dados financeiros, especialmente em granularidades mais finas como dados horários ou minutais, é importante considerar aspectos como volatilidade do mercado, horários de abertura e fechamento do mercado, e a presença de gaps nos dados devido a feriados ou fins de semana.\n",
    "- A disponibilidade de dados de alta frequência (por exemplo, dados minutais ou horários) pode variar dependendo da fonte e das limitações impostas por essas plataformas. Verifique sempre as restrições de uso e os termos de serviço das APIs de dados financeiros.\n",
    "- O `yfinance` é uma ferramenta poderosa e flexível para obter dados"
   ]
  },
  {
   "cell_type": "code",
   "execution_count": 1,
   "metadata": {},
   "outputs": [
    {
     "name": "stderr",
     "output_type": "stream",
     "text": [
      "[*********************100%%**********************]  1 of 1 completed"
     ]
    },
    {
     "name": "stdout",
     "output_type": "stream",
     "text": [
      "                                 Open        High         Low       Close  \\\n",
      "Datetime                                                                    \n",
      "2023-02-01 09:30:00-05:00  143.970001  144.000000  142.589996  142.960007   \n",
      "2023-02-01 10:30:00-05:00  142.970001  143.274994  142.330002  142.910004   \n",
      "2023-02-01 11:30:00-05:00  142.910004  143.005005  141.720001  141.960007   \n",
      "2023-02-01 12:30:00-05:00  141.951706  142.270004  141.839996  142.009995   \n",
      "2023-02-01 13:30:00-05:00  142.020004  143.190002  141.520004  142.389999   \n",
      "\n",
      "                            Adj Close    Volume  \n",
      "Datetime                                         \n",
      "2023-02-01 09:30:00-05:00  142.960007  11912462  \n",
      "2023-02-01 10:30:00-05:00  142.910004   7542626  \n",
      "2023-02-01 11:30:00-05:00  141.960007   6492856  \n",
      "2023-02-01 12:30:00-05:00  142.009995   4542380  \n",
      "2023-02-01 13:30:00-05:00  142.389999   7713862  \n"
     ]
    },
    {
     "name": "stderr",
     "output_type": "stream",
     "text": [
      "\n"
     ]
    }
   ],
   "source": [
    "import yfinance as yf\n",
    "import pandas as pd\n",
    "\n",
    "# Definir o ticker da ação e o intervalo de datas\n",
    "ticker_symbol = 'AAPL'  # Exemplo com a Apple Inc.\n",
    "start_date = '2023-02-01'\n",
    "end_date = '2023-02-05'\n",
    "\n",
    "# Baixar os dados de ações\n",
    "data = yf.download(ticker_symbol, start=start_date, end=end_date, interval='1h')\n",
    "\n",
    "# Exibir as primeiras linhas do DataFrame\n",
    "print(data.head())"
   ]
  },
  {
   "cell_type": "code",
   "execution_count": null,
   "metadata": {},
   "outputs": [],
   "source": []
  }
 ],
 "metadata": {
  "kernelspec": {
   "display_name": "estat_env",
   "language": "python",
   "name": "python3"
  },
  "language_info": {
   "codemirror_mode": {
    "name": "ipython",
    "version": 3
   },
   "file_extension": ".py",
   "mimetype": "text/x-python",
   "name": "python",
   "nbconvert_exporter": "python",
   "pygments_lexer": "ipython3",
   "version": "3.11.4"
  }
 },
 "nbformat": 4,
 "nbformat_minor": 2
}
