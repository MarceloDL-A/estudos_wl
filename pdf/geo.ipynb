{
 "cells": [
  {
   "cell_type": "code",
   "execution_count": 5,
   "metadata": {},
   "outputs": [
    {
     "data": {
      "text/plain": [
       "''"
      ]
     },
     "execution_count": 5,
     "metadata": {},
     "output_type": "execute_result"
    }
   ],
   "source": [
    "from fpdf import FPDF\n",
    "\n",
    "# Criando uma instância de PDF\n",
    "pdf = FPDF()\n",
    "pdf.set_auto_page_break(auto=True, margin=15)\n",
    "pdf.add_page()\n",
    "pdf.set_font(\"Arial\", size=12)\n",
    "\n",
    "# Título do documento PDF\n",
    "pdf.cell(200, 10, \"Perguntas de Verdadeiro ou Falso - História e Geografia do Brasil\", ln=True, align='C')\n",
    "\n",
    "# Perguntas\n",
    "questions = [\n",
    "    \"[__] 1. A extração do pau-brasil foi uma das primeiras atividades econômicas dos portugueses no Brasil.\",\n",
    "    \"[__] 2. O Tratado de Tordesilhas dividiu as terras descobertas entre Portugal e Espanha no meridiano localizado a 370 léguas a oeste das ilhas de Cabo Verde.\",\n",
    "    \"[__] 3. As capitanias hereditárias foram uma forma bem-sucedida de administração da colônia brasileira desde o início.\",\n",
    "    \"[__] 4. A cana-de-açúcar era cultivada principalmente na região Sul do Brasil no século XVI.\",\n",
    "    \"[__] 5. O meridiano de Tordesilhas está localizado atualmente no território brasileiro.\",\n",
    "    \"[__] 6. Martim Afonso de Sousa fundou a primeira capitania hereditária do Brasil em São Vicente.\",\n",
    "    \"[__] 7. A pecuária no Brasil começou a ser uma atividade importante no século XVII.\",\n",
    "    \"[__] 8. Os holandeses invadiram o Nordeste brasileiro no século XVI.\",\n",
    "    \"[__] 9. O ouro descoberto no Brasil no século XVIII não teve grande impacto na economia da colônia.\",\n",
    "    \"[__] 10. As Missões Jesuíticas foram importantes para a colonização da região Sul do Brasil.\"\n",
    "]\n",
    "\n",
    "# Adicionando as perguntas no PDF\n",
    "for question in questions:\n",
    "    pdf.multi_cell(0, 10, question)\n",
    "\n",
    "# Espaço antes do gabarito\n",
    "pdf.ln(10)\n",
    "\n",
    "# Gabarito\n",
    "pdf.set_font(\"Arial\", 'B', 12)\n",
    "pdf.cell(0, 10, \"Gabarito:\", ln=True)\n",
    "\n",
    "# Respostas do gabarito\n",
    "answers = [\n",
    "    \"(1) Verdadeiro - Página 7. A extração do pau-brasil era uma das principais atividades econômicas iniciais e é representada no mapa econômico do século XVI.\",\n",
    "    \"(2) Verdadeiro - Página 5. O Tratado de Tordesilhas estabeleceu a divisão do Novo Mundo entre Portugal e Espanha, o que é descrito textualmente.\",\n",
    "    \"(3) Falso - Página 6. As capitanias hereditárias enfrentaram muitos desafios e não foram bem-sucedidas como método de administração, levando à introdução do Governo-Geral.\",\n",
    "    \"(4) Falso - A cana-de-açúcar era cultivada principalmente no Nordeste, como indicado pelo mapa da economia no século XVI (Página 7).\",\n",
    "    \"(5) Falso - O meridiano de Tordesilhas foi estabelecido a oeste das ilhas de Cabo Verde e não coincide com a atual divisão territorial do Brasil.\",\n",
    "    \"(6) Verdadeiro - Página 6. Martim Afonso de Sousa teve um papel importante na fundação da capitania de São Vicente, o que está documentado no texto.\",\n",
    "    \"(7) Verdadeiro - Página 8. A expansão da pecuária para o interior é indicada no mapa do século XVII, refletindo sua importância crescente.\",\n",
    "    \"(8) Falso - Os holandeses invadiram o Nordeste brasileiro no século XVII, não no XVI, conforme indicado no texto e no mapa do século XVII (Página 8).\",\n",
    "    \"(9) Falso - O ouro teve um impacto significativo na economia colonial, marcando um período de grande riqueza e mudanças sociais, como é discutido no texto referente ao século XVIII.\",\n",
    "    \"(10) Verdadeiro - As Missões Jesuíticas tiveram um papel crucial na colonização do Sul, ajudando na organização social e na evangelização dos povos indígenas.\"\n",
    "]\n",
    "\n",
    "# Adicionando as respostas no PDF\n",
    "for answer in answers:\n",
    "    pdf.multi_cell(0, 10, answer)\n",
    "\n",
    "# Salvando o PDF em um arquivo\n",
    "pdf_output = \"Verdadeiro_ou_Falso_Historia_Geografia_Brasil.pdf\"\n",
    "pdf.output(pdf_output)\n"
   ]
  },
  {
   "cell_type": "code",
   "execution_count": null,
   "metadata": {},
   "outputs": [],
   "source": []
  }
 ],
 "metadata": {
  "kernelspec": {
   "display_name": "estat_env",
   "language": "python",
   "name": "python3"
  },
  "language_info": {
   "codemirror_mode": {
    "name": "ipython",
    "version": 3
   },
   "file_extension": ".py",
   "mimetype": "text/x-python",
   "name": "python",
   "nbconvert_exporter": "python",
   "pygments_lexer": "ipython3",
   "version": "3.11.4"
  }
 },
 "nbformat": 4,
 "nbformat_minor": 2
}
